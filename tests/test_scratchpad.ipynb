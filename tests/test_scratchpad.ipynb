{
 "cells": [
  {
   "cell_type": "code",
   "execution_count": 4,
   "id": "6d3c9c04",
   "metadata": {},
   "outputs": [],
   "source": [
    "import numpy as np\n",
    "import trompy as tp"
   ]
  },
  {
   "cell_type": "code",
   "execution_count": 5,
   "id": "43d61d1f",
   "metadata": {},
   "outputs": [
    {
     "data": {
      "text/plain": [
       "0.0027028893803133056"
      ]
     },
     "execution_count": 5,
     "metadata": {},
     "output_type": "execute_result"
    }
   ],
   "source": [
    "group1 = [72, 73, 73, 77, 82, 82, 83, 84, 85]\n",
    "group2 = [81, 82, 83, 83, 83, 84, 87, 90, 92, 93]\n",
    "group3 = [77, 78, 79, 88, 89, 90, 91, 95, 95, 98]\n",
    "data = np.array([group1, group2, group3], dtype=object)\n",
    "\n",
    "tp.lsd_pval(data, [0,2])"
   ]
  },
  {
   "cell_type": "code",
   "execution_count": 6,
   "id": "cf30e6f5",
   "metadata": {},
   "outputs": [
    {
     "name": "stdout",
     "output_type": "stream",
     "text": [
      "\u001b[1;31mSignature:\u001b[0m \u001b[0mtp\u001b[0m\u001b[1;33m.\u001b[0m\u001b[0mstats_utils\u001b[0m\u001b[1;33m.\u001b[0m\u001b[0msse\u001b[0m\u001b[1;33m(\u001b[0m\u001b[0mdata\u001b[0m\u001b[1;33m)\u001b[0m\u001b[1;33m\u001b[0m\u001b[1;33m\u001b[0m\u001b[0m\n",
      "\u001b[1;31mDocstring:\u001b[0m <no docstring>\n",
      "\u001b[1;31mFile:\u001b[0m      c:\\users\\jmc010\\github\\trompy\\trompy\\stats_utils.py\n",
      "\u001b[1;31mType:\u001b[0m      function"
     ]
    }
   ],
   "source": [
    "tp.stats_utils.sse?\n"
   ]
  },
  {
   "cell_type": "code",
   "execution_count": 59,
   "id": "7feb3bd6",
   "metadata": {},
   "outputs": [
    {
     "name": "stdout",
     "output_type": "stream",
     "text": [
      "Updated version\n"
     ]
    },
    {
     "data": {
      "text/plain": [
       "''"
      ]
     },
     "execution_count": 59,
     "metadata": {},
     "output_type": "execute_result"
    },
    {
     "data": {
      "image/png": "[encoded data removed]",
      "text/plain": [
       "<Figure size 640x480 with 1 Axes>"
      ]
     },
     "metadata": {},
     "output_type": "display_data"
    }
   ],
   "source": [
    "import numpy as np\n",
    "\n",
    "%run \"..\\\\trompy\\\\barscatter\"\n",
    "\n",
    "bs = barscatter\n",
    "bs([np.random.weibull(1, size=20), np.random.weibull(1, size=20)], spaced=True, xspace=0.05, yspace=10)\n",
    ";"
   ]
  },
  {
   "cell_type": "code",
   "execution_count": 53,
   "id": "8334d7bd",
   "metadata": {},
   "outputs": [],
   "source": [
    "np.random?"
   ]
  },
  {
   "cell_type": "code",
   "execution_count": 31,
   "id": "3b522c82",
   "metadata": {},
   "outputs": [],
   "source": [
    "random.randint?"
   ]
  },
  {
   "cell_type": "code",
   "execution_count": 56,
   "id": "cf01d1c1",
   "metadata": {},
   "outputs": [],
   "source": [
    "np.random.weibull?"
   ]
  },
  {
   "cell_type": "code",
   "execution_count": 16,
   "id": "5438bf85",
   "metadata": {},
   "outputs": [],
   "source": [
    "import numpy as np\n",
    "\n",
    "short_ilis = np.random.normal(0.16, 0.05, 2000)\n",
    "med_ilis = np.random.poisson(1.5, 100)\n",
    "long_ilis = np.random.poisson(30, 20)\n",
    "\n",
    "all_ilis = np.concatenate([short_ilis, med_ilis, long_ilis])\n",
    "np.random.shuffle(all_ilis)\n",
    "\n",
    "timestamps = np.cumsum(all_ilis)\n",
    "\n",
    "\n"
   ]
  },
  {
   "cell_type": "code",
   "execution_count": 17,
   "id": "a14645ff",
   "metadata": {},
   "outputs": [
    {
     "data": {
      "text/plain": [
       "2120"
      ]
     },
     "execution_count": 17,
     "metadata": {},
     "output_type": "execute_result"
    }
   ],
   "source": [
    "len(timestamps)"
   ]
  },
  {
   "cell_type": "code",
   "execution_count": 19,
   "id": "6b4b14c5",
   "metadata": {},
   "outputs": [],
   "source": [
    "import trompy as tp\n",
    "lickdata = tp.lickCalc(timestamps)"
   ]
  },
  {
   "cell_type": "code",
   "execution_count": null,
   "id": "f26868f9",
   "metadata": {},
   "outputs": [],
   "source": []
  },
  {
   "cell_type": "code",
   "execution_count": 20,
   "id": "941162f3",
   "metadata": {},
   "outputs": [
    {
     "data": {
      "text/plain": [
       "dict_keys(['licklength', 'longlicks', 'licks', 'ilis', 'freq', 'total', 'bStart', 'bInd', 'bEnd', 'bLicks', 'bTime', 'bNum', 'bMean', 'bMean-first3', 'IBIs', 'rStart', 'rInd', 'rEnd', 'rLicks', 'rTime', 'rNum', 'weib_alpha', 'weib_beta', 'weib_rsq', 'burstprob', 'hist'])"
      ]
     },
     "execution_count": 20,
     "metadata": {},
     "output_type": "execute_result"
    }
   ],
   "source": [
    "lickdata.keys()"
   ]
  },
  {
   "cell_type": "code",
   "execution_count": 22,
   "id": "1e4ac908",
   "metadata": {},
   "outputs": [
    {
     "data": {
      "text/plain": [
       "102"
      ]
     },
     "execution_count": 22,
     "metadata": {},
     "output_type": "execute_result"
    }
   ],
   "source": [
    "lickdata[\"bNum\"]"
   ]
  },
  {
   "cell_type": "code",
   "execution_count": null,
   "id": "7170ff5a",
   "metadata": {},
   "outputs": [],
   "source": []
  }
 ],
 "metadata": {
  "kernelspec": {
   "display_name": "Python 3 (ipykernel)",
   "language": "python",
   "name": "python3"
  },
  "language_info": {
   "codemirror_mode": {
    "name": "ipython",
    "version": 3
   },
   "file_extension": ".py",
   "mimetype": "text/x-python",
   "name": "python",
   "nbconvert_exporter": "python",
   "pygments_lexer": "ipython3",
   "version": "3.9.18"
  }
 },
 "nbformat": 4,
 "nbformat_minor": 5
}
