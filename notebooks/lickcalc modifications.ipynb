{
 "cells": [
  {
   "cell_type": "code",
   "execution_count": 10,
   "id": "a9ffacc5",
   "metadata": {},
   "outputs": [],
   "source": [
    "# function to calculate lick runs with more options\n",
    "\n",
    "from pathlib import Path\n",
    "import numpy as np\n",
    "import trompy as tp"
   ]
  },
  {
   "cell_type": "code",
   "execution_count": 2,
   "id": "3df0ce80",
   "metadata": {},
   "outputs": [],
   "source": [
    "\n",
    "medfile = Path(\"D:/TestData/distraction/medfiles/!2017-06-20_10h01m.Subject thph1.3\")\n",
    "\n",
    "licks = tp.medfilereader(medfile, varsToExtract=[\"b\"])[1:]"
   ]
  },
  {
   "cell_type": "code",
   "execution_count": 3,
   "id": "dfd07632",
   "metadata": {},
   "outputs": [
    {
     "data": {
      "text/plain": [
       "1367"
      ]
     },
     "execution_count": 3,
     "metadata": {},
     "output_type": "execute_result"
    }
   ],
   "source": [
    "len(licks)"
   ]
  },
  {
   "cell_type": "code",
   "execution_count": 6,
   "id": "b7a64620",
   "metadata": {},
   "outputs": [
    {
     "data": {
      "text/plain": [
       "20"
      ]
     },
     "execution_count": 6,
     "metadata": {},
     "output_type": "execute_result"
    }
   ],
   "source": [
    "tp.lickCalc(licks)[\"rNum\"]"
   ]
  },
  {
   "cell_type": "code",
   "execution_count": 50,
   "id": "38ebfa53",
   "metadata": {},
   "outputs": [
    {
     "name": "stdout",
     "output_type": "stream",
     "text": [
      "1368\n",
      "(1, 33.25099999999999) (51, 46.217)\n",
      "(52, 79.27300000000002) (60, 80.31800000000003)\n",
      "(61, 127.17300000000007) (63, 127.40000000000008)\n",
      "(64, 230.04700000000017) (150, 252.1480000000002)\n",
      "(151, 329.0650000000002) (214, 338.8870000000003)\n",
      "(215, 420.14600000000036) (315, 435.3900000000003)\n",
      "(316, 473.67500000000035) (355, 479.7690000000004)\n",
      "(356, 526.0840000000004) (439, 542.8480000000004)\n",
      "(440, 630.4050000000005) (570, 655.9920000000005)\n",
      "(571, 671.1130000000005) (674, 688.5390000000006)\n",
      "(675, 746.9300000000006) (772, 761.4980000000006)\n",
      "(773, 780.7190000000006) (848, 793.9000000000007)\n",
      "(849, 831.1350000000007) (937, 844.7780000000007)\n",
      "(938, 858.7290000000007) (1031, 882.4450000000007)\n",
      "(1032, 1042.046000000001) (1149, 1061.064000000001)\n",
      "(1150, 1092.912000000001) (1227, 1105.429000000001)\n",
      "(1228, 1268.6340000000012) (1240, 1270.140000000001)\n",
      "(1241, 1348.493000000001) (1241, 1348.493000000001)\n",
      "(1242, 2753.2019999999243) (1330, 2784.5529999999208)\n",
      "(1331, 2956.4899999999016) (1367, 2962.6469999999013)\n",
      "Removed 2 runs because too short.\n"
     ]
    }
   ],
   "source": [
    "def get_lick_runs(licks, t_threshold=10, min_licks=3, verbose=False):\n",
    "    \n",
    "    licks = np.insert(np.array(licks), 0, 0)\n",
    "    \n",
    "    run_start = [(idx, lick) for idx, lick in enumerate(licks) if lick - licks[idx-1] > 10]\n",
    "    run_end = [(idx, lick) for idx, lick in enumerate(licks[:-1]) if licks[idx+1] - lick > 10][1:]\n",
    "    run_end.append((len(licks)-1, licks[-1]))\n",
    "\n",
    "    runs_t, runs_length = [], []\n",
    "    removed = 0\n",
    "    for start, end in zip(run_start, run_end):\n",
    "        if verbose: print(start, end)\n",
    "            \n",
    "        if end[0] - start[0] > min_licks-1:\n",
    "            runs_t.append(start[1])\n",
    "            runs_length.append(end[0] - start[0] + 1)\n",
    "        else:\n",
    "            removed += 1\n",
    "            \n",
    "    print(f\"Removed {removed} runs because too short.\")\n",
    "\n",
    "    return runs_t, runs_length\n",
    "             \n",
    "r, l = get_lick_runs(licks, verbose=True)"
   ]
  },
  {
   "cell_type": "code",
   "execution_count": null,
   "id": "4b1b2fc6",
   "metadata": {},
   "outputs": [],
   "source": [
    "\n",
    "        \n",
    "        counter = counter + 1"
   ]
  }
 ],
 "metadata": {
  "kernelspec": {
   "display_name": "Python 3 (ipykernel)",
   "language": "python",
   "name": "python3"
  },
  "language_info": {
   "codemirror_mode": {
    "name": "ipython",
    "version": 3
   },
   "file_extension": ".py",
   "mimetype": "text/x-python",
   "name": "python",
   "nbconvert_exporter": "python",
   "pygments_lexer": "ipython3",
   "version": "3.9.16"
  }
 },
 "nbformat": 4,
 "nbformat_minor": 5
}
