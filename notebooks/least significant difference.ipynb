{
 "cells": [
  {
   "cell_type": "code",
   "execution_count": 2,
   "id": "d773b660",
   "metadata": {},
   "outputs": [],
   "source": [
    "import numpy as np\n",
    "from scipy.stats import t\n",
    "from scipy.special import betainc"
   ]
  },
  {
   "cell_type": "code",
   "execution_count": 4,
   "id": "7f9b2b1c",
   "metadata": {},
   "outputs": [],
   "source": [
    "group1 = [72, 73, 73, 77, 82, 82, 83, 84, 85]\n",
    "group2 = [81, 82, 83, 83, 83, 84, 87, 90, 92, 93]\n",
    "group3 = [77, 78, 79, 88, 89, 90, 91, 95, 95, 98]\n",
    "\n",
    "data = np.array([group1, group2, group3], dtype=object)"
   ]
  },
  {
   "cell_type": "code",
   "execution_count": 5,
   "id": "6c274ef0",
   "metadata": {},
   "outputs": [
    {
     "data": {
      "text/plain": [
       "array([list([72, 73, 73, 77, 82, 82, 83, 84, 85]),\n",
       "       list([81, 82, 83, 83, 83, 84, 87, 90, 92, 93]),\n",
       "       list([77, 78, 79, 88, 89, 90, 91, 95, 95, 98])], dtype=object)"
      ]
     },
     "execution_count": 5,
     "metadata": {},
     "output_type": "execute_result"
    }
   ],
   "source": [
    "data"
   ]
  },
  {
   "cell_type": "code",
   "execution_count": 19,
   "id": "8bef2c97",
   "metadata": {},
   "outputs": [
    {
     "data": {
      "text/plain": [
       "0.0027028893803133056"
      ]
     },
     "execution_count": 19,
     "metadata": {},
     "output_type": "execute_result"
    }
   ],
   "source": [
    "# Functions required for calculations of ANOVA statistics\n",
    "\n",
    "# sum of squares of treatment / regression\n",
    "def ssr(data):\n",
    "    sums = []\n",
    "    for group in data:\n",
    "        sums.append(len(group) * (np.mean(group) - np.mean(data))**2)\n",
    "        \n",
    "    return np.sum(sums)\n",
    "\n",
    "# sum of squares error\n",
    "def sse(data):\n",
    "    sums = []\n",
    "    for group in data:\n",
    "        sums.append(np.sum([(x-np.mean(group))**2 for x in group]))\n",
    "    \n",
    "    return np.sum(sums)\n",
    "\n",
    "def dfr(data):\n",
    "    return np.shape(data)[0] - 1\n",
    "    \n",
    "def dfe(data):\n",
    "    if np.ndim(data) == 1:\n",
    "        return np.sum([len(x) for x in data]) - len(data)\n",
    "    elif np.ndim(data) == 2:\n",
    "        return np.size(data) - np.shape(data)[0]\n",
    "\n",
    "def msr(data):\n",
    "    return ssr(data) / dfr(data)\n",
    "\n",
    "def mse(data):\n",
    "    return sse(data) / dfe(data)\n",
    "\n",
    "def fval(data):\n",
    "    return msr(data) / mse(data)\n",
    "\n",
    "def pval(data):\n",
    "    \"\"\"\n",
    "    Finds p-value associated with combination of F and df values.\n",
    "    \n",
    "    Uses incomplete betfunction from scipy. Also discussed here:\n",
    "    https://stackoverflow.com/questions/38113120/calculate-f-distribution-p-values-in-python\n",
    "    \"\"\"\n",
    "    F, df1, df2 = fval(data), dfr(data), dfe(data)\n",
    "    return 1 - betainc(.5*df1, .5*df2, float(df1)*F/(df1*F+df2))\n",
    "\n",
    "def lsd(data, groups, alpha=0.025):\n",
    "    return t.ppf(1-alpha, dfe(data)) * np.sqrt(mse(data) * (1/len(data[groups[0]]) + 1/len(data[groups[1]])))\n",
    "\n",
    "def lsd_pval(data, groups):\n",
    "    \"\"\"\n",
    "    Returns two-tailed p-value for LSD (least significant difference) posthoc tests.\n",
    "    \n",
    "    Args\n",
    "    data : Numpy array\n",
    "        Data to be tested, m x n array where first dimension are groups (between) and second dim is subjects (within)\n",
    "    groups : List or tuple\n",
    "        Two integers specifying groups to be compared.\n",
    "        \n",
    "    Returns\n",
    "        \n",
    "    \"\"\"\n",
    "    if np.ndim(data) == 1:\n",
    "        gp1 = data[groups[0]]\n",
    "        gp2 = data[groups[1]]\n",
    "    elif np.ndim(data) == 2:\n",
    "        gp1 = data[groups[0],:]\n",
    "        gp2 = data[groups[1],:]\n",
    "    else:\n",
    "        print(\"Input data has too many dimensions. Exiting.\")\n",
    "        return\n",
    "    \n",
    "    diff = np.abs(np.mean(gp1) - np.mean(gp2))\n",
    "    \n",
    "    tval = diff / np.sqrt(mse(data) * (1/len(gp1) + 1/len(gp2)))\n",
    "    pval = t.sf(np.abs(tval), dfe(data))*2\n",
    "    \n",
    "    return pval\n",
    "\n",
    "# group1 = [72, 73, 73, 77, 82, 82, 83, 84, 85, 89]\n",
    "# group2 = [81, 82, 83, 83, 83, 84, 87, 90, 92, 93]\n",
    "# group3 = [77, 78, 79, 88, 89, 90, 91, 95, 95, 98]\n",
    "\n",
    "# data = np.array([group1, group2, group3])\n",
    "\n",
    "group1 = [72, 73, 73, 77, 82, 82, 83, 84, 85]\n",
    "group2 = [81, 82, 83, 83, 83, 84, 87, 90, 92, 93]\n",
    "group3 = [77, 78, 79, 88, 89, 90, 91, 95, 95, 98]\n",
    "data = np.array([group1, group2, group3], dtype=object)\n",
    "\n",
    "lsd_pval(data, [0,2])\n",
    "# sse(data)"
   ]
  },
  {
   "cell_type": "code",
   "execution_count": 8,
   "id": "d144cc56",
   "metadata": {},
   "outputs": [
    {
     "data": {
      "text/plain": [
       "1"
      ]
     },
     "execution_count": 8,
     "metadata": {},
     "output_type": "execute_result"
    }
   ],
   "source": [
    "np.ndim(data)"
   ]
  },
  {
   "cell_type": "code",
   "execution_count": 53,
   "id": "be323c66",
   "metadata": {},
   "outputs": [],
   "source": [
    "\n",
    "    "
   ]
  },
  {
   "cell_type": "code",
   "execution_count": null,
   "id": "74d2f25e",
   "metadata": {},
   "outputs": [],
   "source": []
  }
 ],
 "metadata": {
  "kernelspec": {
   "display_name": "Python 3 (ipykernel)",
   "language": "python",
   "name": "python3"
  },
  "language_info": {
   "codemirror_mode": {
    "name": "ipython",
    "version": 3
   },
   "file_extension": ".py",
   "mimetype": "text/x-python",
   "name": "python",
   "nbconvert_exporter": "python",
   "pygments_lexer": "ipython3",
   "version": "3.9.16"
  }
 },
 "nbformat": 4,
 "nbformat_minor": 5
}
